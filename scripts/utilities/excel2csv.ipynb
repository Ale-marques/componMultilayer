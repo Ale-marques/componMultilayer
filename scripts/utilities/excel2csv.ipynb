{
 "cells": [
  {
   "cell_type": "markdown",
   "id": "092442d0-b20e-4e36-ae24-c3ef7de7295d",
   "metadata": {},
   "source": [
    "#### Need to have `openpyxl` installed to use `read_excel` from pandas"
   ]
  },
  {
   "cell_type": "code",
   "execution_count": null,
   "id": "3717f6f5-6628-4366-a93b-a8ef944ee4ca",
   "metadata": {},
   "outputs": [],
   "source": [
    "import pandas as pd\n",
    "import os"
   ]
  },
  {
   "cell_type": "code",
   "execution_count": null,
   "id": "3c1be4c6-9b04-42d2-a714-e9c42265b9a5",
   "metadata": {},
   "outputs": [],
   "source": [
    "path = ''"
   ]
  },
  {
   "cell_type": "code",
   "execution_count": null,
   "id": "b3d43b59-5028-4164-b98d-e46b17697923",
   "metadata": {},
   "outputs": [],
   "source": [
    "sides = os.listdir(path)"
   ]
  },
  {
   "cell_type": "code",
   "execution_count": null,
   "id": "d8b78369-1ff3-4851-b82d-857a9ee21d24",
   "metadata": {},
   "outputs": [],
   "source": [
    "for side in sides:\n",
    "    df = pd.read_excel(os.path.join(path, side), header = None, dtype = {0:'object', 3:'Int64'})\n",
    "    if df.shape[0] > 0:\n",
    "        df[0] = df[0].astype('str')\n",
    "        #df.loc[df[3] == 2, 3] = 3\n",
    "        #df.loc[df[3] == 1, 3] = 2\n",
    "        file = str(side[:-5]) + '.csv'\n",
    "        df.to_csv(os.path.join(path, file), sep = ',', index = False, encoding = 'utf-8', header = False)"
   ]
  },
  {
   "cell_type": "code",
   "execution_count": null,
   "id": "350d6162-9a30-4aca-acb4-a490ef79a0bb",
   "metadata": {},
   "outputs": [],
   "source": []
  }
 ],
 "metadata": {
  "kernelspec": {
   "display_name": "Python 3 (ipykernel)",
   "language": "python",
   "name": "python3"
  },
  "language_info": {
   "codemirror_mode": {
    "name": "ipython",
    "version": 3
   },
   "file_extension": ".py",
   "mimetype": "text/x-python",
   "name": "python",
   "nbconvert_exporter": "python",
   "pygments_lexer": "ipython3",
   "version": "3.9.7"
  }
 },
 "nbformat": 4,
 "nbformat_minor": 5
}
