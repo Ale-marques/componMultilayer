{
 "cells": [
  {
   "cell_type": "markdown",
   "id": "2e7ff961-eb44-4e82-9869-e560e97e2fc2",
   "metadata": {},
   "source": [
    "## 05. Script to merge all coded levels\n",
    "- Prereq: All steps before 05 should be done.\n",
    "- Input: `main_standardized.csv` and all `check_[org].csv` files.\n",
    "- Output: `all_accounts.csv`"
   ]
  },
  {
   "cell_type": "markdown",
   "id": "9e405c21-df01-45a7-80ba-51526564f029",
   "metadata": {},
   "source": [
    "#### Settings:\n",
    "1. Path to working data directory should be set in `config.ini`: `[data][scratch]`"
   ]
  },
  {
   "cell_type": "markdown",
   "id": "2df1ed5a-c83c-473c-a5e7-927a446fef29",
   "metadata": {},
   "source": [
    "#### Reading in configuation and settings"
   ]
  },
  {
   "cell_type": "code",
   "execution_count": null,
   "id": "b51811cb-4501-41df-b059-b9f12902b93c",
   "metadata": {},
   "outputs": [],
   "source": [
    "from levels_merge import *"
   ]
  },
  {
   "cell_type": "code",
   "execution_count": null,
   "id": "1fa7c4cf-be9b-4fe7-9801-48e97cbffa34",
   "metadata": {},
   "outputs": [],
   "source": [
    "params = configparser.ConfigParser()\n",
    "params.read('config.ini')"
   ]
  },
  {
   "cell_type": "markdown",
   "id": "071c044d-2a47-4f8b-bd3a-a36278dc61e1",
   "metadata": {},
   "source": [
    "#### Merging all the labeled accounts"
   ]
  },
  {
   "cell_type": "code",
   "execution_count": null,
   "id": "0599de6e-6659-43b5-8ee1-887a5ba72135",
   "metadata": {},
   "outputs": [],
   "source": [
    "df = merge_data(path = params['data']['scratch'])"
   ]
  },
  {
   "cell_type": "markdown",
   "id": "5634acbd-8597-4952-91a2-f5985700f449",
   "metadata": {},
   "source": [
    "#### The final account list will be saved as `all_accounts.csv` in your output directory."
   ]
  }
 ],
 "metadata": {
  "kernelspec": {
   "display_name": "Python 3 (ipykernel)",
   "language": "python",
   "name": "python3"
  },
  "language_info": {
   "codemirror_mode": {
    "name": "ipython",
    "version": 3
   },
   "file_extension": ".py",
   "mimetype": "text/x-python",
   "name": "python",
   "nbconvert_exporter": "python",
   "pygments_lexer": "ipython3",
   "version": "3.9.7"
  }
 },
 "nbformat": 4,
 "nbformat_minor": 5
}
